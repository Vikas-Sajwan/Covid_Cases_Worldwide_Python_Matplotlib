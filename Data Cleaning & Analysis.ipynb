{
 "cells": [
  {
   "cell_type": "markdown",
   "id": "3ff35541",
   "metadata": {},
   "source": [
    "### *--DATA LOADING--*"
   ]
  },
  {
   "cell_type": "markdown",
   "id": "88b2d22b",
   "metadata": {},
   "source": [
    "1.  Importing Library"
   ]
  },
  {
   "cell_type": "code",
   "execution_count": null,
   "id": "69a653a7",
   "metadata": {},
   "outputs": [],
   "source": [
    "import pandas as pd\n",
    "import numpy as np\n",
    "import matplotlib.pyplot as plt"
   ]
  },
  {
   "cell_type": "markdown",
   "id": "c40dc810",
   "metadata": {},
   "source": [
    "2. Reading the CSV file into a DataFrame"
   ]
  },
  {
   "cell_type": "code",
   "execution_count": null,
   "id": "fb29e573",
   "metadata": {},
   "outputs": [],
   "source": [
    "df = pd.read_csv('Covid_Dataset.csv')"
   ]
  },
  {
   "cell_type": "markdown",
   "id": "7e9e49c5",
   "metadata": {},
   "source": [
    "3. Display the first five rows of the DataFrame to confirm it's loaded"
   ]
  },
  {
   "cell_type": "code",
   "execution_count": null,
   "id": "fd106874",
   "metadata": {},
   "outputs": [],
   "source": [
    "df.head()"
   ]
  },
  {
   "cell_type": "markdown",
   "id": "90170787",
   "metadata": {},
   "source": [
    "4. Print a summary of the DataFrame to check data types and missing values\n"
   ]
  },
  {
   "cell_type": "code",
   "execution_count": null,
   "id": "425066d6",
   "metadata": {},
   "outputs": [],
   "source": [
    "df.info()"
   ]
  },
  {
   "cell_type": "markdown",
   "id": "d79f0b83",
   "metadata": {},
   "source": [
    "### *--DATA CLEANING--*"
   ]
  },
  {
   "cell_type": "code",
   "execution_count": null,
   "id": "148fd6f2",
   "metadata": {},
   "outputs": [],
   "source": [
    "# Replace 'N/A' with 0\n",
    "df.fillna(0, inplace=True)\n",
    "\n",
    "# Define columns to clean (remove commas and convert to numeric)\n",
    "cols_to_clean = ['Total Cases', 'Total Deaths', 'Total Recovered', 'Active Cases', 'Total Test', 'Population']\n",
    "\n",
    "# Iterate over columns and clean them\n",
    "for col in cols_to_clean:\n",
    "    if col in df.columns:\n",
    "        # Remove commas and convert to numeric\n",
    "        df[col] = df[col].astype(str).str.replace(',', '', regex=False)\n",
    "        df[col] = pd.to_numeric(df[col], errors='coerce')\n",
    "\n",
    "# Clean the column names (MOVED TO HERE)\n",
    "df.columns = df.columns.str.replace(' ', '_').str.lower()\n",
    "print(\"Cleaned Column Names:\\n\")\n",
    "print(df.columns)\n",
    "print(\"\\n\" + \"=\"*50 + \"\\n\")"
   ]
  },
  {
   "cell_type": "markdown",
   "id": "cdc975be",
   "metadata": {},
   "source": [
    "### *--LOADING CLEAN DATA--*"
   ]
  },
  {
   "cell_type": "markdown",
   "id": "caf0409c",
   "metadata": {},
   "source": [
    "6. Display the first five rows of the Cleaned DataFrame"
   ]
  },
  {
   "cell_type": "code",
   "execution_count": null,
   "id": "4af9192e",
   "metadata": {},
   "outputs": [],
   "source": [
    "df.head()"
   ]
  },
  {
   "cell_type": "markdown",
   "id": "0fbdd5ab",
   "metadata": {},
   "source": [
    "7. Print a summary of the Cleaned DataFrame"
   ]
  },
  {
   "cell_type": "code",
   "execution_count": null,
   "id": "f2a93d1e",
   "metadata": {},
   "outputs": [],
   "source": [
    "df.info()"
   ]
  },
  {
   "cell_type": "markdown",
   "id": "e91bd3d1",
   "metadata": {},
   "source": [
    "8. Save the cleaned dataset to a new CSV file"
   ]
  },
  {
   "cell_type": "code",
   "execution_count": null,
   "id": "55f95e84",
   "metadata": {},
   "outputs": [],
   "source": [
    "df.to_csv('Cleaned_Covid_Dataset.csv', index=False)"
   ]
  },
  {
   "cell_type": "markdown",
   "id": "64df33e3",
   "metadata": {},
   "source": [
    "### *--DATA ANALYSIS--*"
   ]
  },
  {
   "cell_type": "markdown",
   "id": "fe4891dc",
   "metadata": {},
   "source": [
    "1. Define the colour pallete for all plots ?"
   ]
  },
  {
   "cell_type": "code",
   "execution_count": null,
   "id": "79934220",
   "metadata": {},
   "outputs": [],
   "source": [
    "dark_grey = '#36454F'\n",
    "light_grey = '#F5F5F5'\n",
    "white_color = '#FFFFFF'\n",
    "medium_grey = '#778899'"
   ]
  },
  {
   "cell_type": "markdown",
   "id": "425139e3",
   "metadata": {},
   "source": [
    "2. Identify and display the top 10 countries with the highest total cases ?"
   ]
  },
  {
   "cell_type": "code",
   "execution_count": null,
   "id": "015c1aa1",
   "metadata": {},
   "outputs": [],
   "source": [
    "top_10_cases = df.nlargest(10, 'total_cases')[['country', 'total_cases']]\n",
    "print(\"\\n\" + \"=\"*50 + \"\\n\")\n",
    "print(\"Top 10 Countries by Total Cases:\\n\")\n",
    "print(top_10_cases)"
   ]
  },
  {
   "cell_type": "markdown",
   "id": "0228d46d",
   "metadata": {},
   "source": [
    "3. Calculate Mortality Rate for each country and add as a new column ?"
   ]
  },
  {
   "cell_type": "code",
   "execution_count": null,
   "id": "7866127a",
   "metadata": {},
   "outputs": [],
   "source": [
    "df['mortality_rate'] = df['total_deaths'] / df['total_cases']\n",
    "# Fill any resulting NaN or Inf values with 0 for countries with 0 cases.\n",
    "df['mortality_rate'] = df['mortality_rate'].replace([np.inf, -np.inf], np.nan).fillna(0)\n",
    "print(\"\\n\" + \"=\"*50 + \"\\n\")\n",
    "print(\"Added 'mortality_rate' column to the DataFrame.\")\n",
    "print(df[['country', 'mortality_rate']].head())"
   ]
  },
  {
   "cell_type": "markdown",
   "id": "5135e5b4",
   "metadata": {},
   "source": [
    "4. Find the country with the highest Mortality Rate (for countries > 100,000 cases) ?"
   ]
  },
  {
   "cell_type": "code",
   "execution_count": null,
   "id": "d974cfae",
   "metadata": {},
   "outputs": [],
   "source": [
    "filtered_df = df[df['total_cases'] > 100000]\n",
    "highest_mortality_country = filtered_df.nlargest(1, 'mortality_rate')[['country', 'mortality_rate']]\n",
    "print(\"\\n\" + \"=\"*50 + \"\\n\")\n",
    "print(\"Country with highest Mortality Rate (for > 100,000 cases):\")\n",
    "print(highest_mortality_country)\n"
   ]
  },
  {
   "cell_type": "markdown",
   "id": "78166807",
   "metadata": {},
   "source": [
    "5. Create a new column for tests per 1000 people ?"
   ]
  },
  {
   "cell_type": "code",
   "execution_count": null,
   "id": "af023ef2",
   "metadata": {},
   "outputs": [],
   "source": [
    "df['tests_per_1000_people'] = (df['total_test'] / df['population']) * 1000\n",
    "# Handle countries with 0 population to avoid infinite values\n",
    "df['tests_per_1000_people'] = df['tests_per_1000_people'].replace([np.inf, -np.inf], 0)\n",
    "print(\"\\n\" + \"=\"*50 + \"\\n\")\n",
    "print(\"Added 'tests_per_1000_people' column.\")\n",
    "print(df[['country', 'tests_per_1000_people']].head())"
   ]
  },
  {
   "cell_type": "markdown",
   "id": "c1b53342",
   "metadata": {},
   "source": [
    "6. Find the total number of tests in the top 10 countries by total cases ?"
   ]
  },
  {
   "cell_type": "code",
   "execution_count": null,
   "id": "4ce6eac0",
   "metadata": {},
   "outputs": [],
   "source": [
    "print(\"\\n\" + \"=\"*50 + \"\\n\")\n",
    "top_10_countries_by_tests = df.nlargest(10, 'total_cases')\n",
    "total_tests_top_10 = top_10_countries_by_tests['total_test'].sum()\n",
    "print(f\"Total tests in top 10 countries by cases: {int(total_tests_top_10):,}\")\n"
   ]
  },
  {
   "cell_type": "markdown",
   "id": "ebe80360",
   "metadata": {},
   "source": [
    "7. Find the number of countries with zero total cases ?"
   ]
  },
  {
   "cell_type": "code",
   "execution_count": null,
   "id": "f90e6a42",
   "metadata": {},
   "outputs": [],
   "source": [
    "print(\"\\n\" + \"=\"*50 + \"\\n\")\n",
    "countries_with_zero_cases = df[df['total_cases'] == 0].shape[0]\n",
    "print(f\"Number of countries with 0 total cases: {countries_with_zero_cases}\")"
   ]
  },
  {
   "cell_type": "markdown",
   "id": "7d27ef6e",
   "metadata": {},
   "source": [
    "8. Identify the top 5 countries with the highest total recovered cases ?"
   ]
  },
  {
   "cell_type": "code",
   "execution_count": null,
   "id": "bccdcc90",
   "metadata": {},
   "outputs": [],
   "source": [
    "print(\"\\n\" + \"=\"*50 + \"\\n\")\n",
    "top_5_recovered = df.nlargest(5, 'total_recovered')[['country', 'total_recovered']]\n",
    "print(\"Top 5 Countries by Total Recovered Cases:\\n\")\n",
    "print(top_5_recovered)\n"
   ]
  },
  {
   "cell_type": "markdown",
   "id": "cd22f3ae",
   "metadata": {},
   "source": [
    "### *--VISUALIZATIONS--*"
   ]
  },
  {
   "cell_type": "code",
   "execution_count": null,
   "id": "f98084c6",
   "metadata": {},
   "outputs": [],
   "source": [
    "# Set matplotlib style for the new color theme\n",
    "plt.style.use('default') # Reset to default first\n",
    "plt.rcParams.update({\n",
    "    'axes.facecolor': light_grey,\n",
    "    'figure.facecolor': light_grey,\n",
    "    'axes.edgecolor': white_color,\n",
    "    'axes.labelcolor': 'black',\n",
    "    'xtick.color': 'black',\n",
    "    'ytick.color': 'black',\n",
    "    'grid.color': white_color,\n",
    "    'grid.alpha': 0.5,\n",
    "    'text.color': 'black',\n",
    "    'font.family': 'sans-serif'\n",
    "})"
   ]
  },
  {
   "cell_type": "markdown",
   "id": "1a08c77f",
   "metadata": {},
   "source": [
    "9. Bar chart showing the top 15 countries by total cases ?"
   ]
  },
  {
   "cell_type": "code",
   "execution_count": null,
   "id": "01a54ff4",
   "metadata": {},
   "outputs": [],
   "source": [
    "top_15_cases = df.nlargest(15, 'total_cases')\n",
    "plt.figure(figsize=(12, 8))\n",
    "plt.bar(top_15_cases['country'], top_15_cases['total_cases'], color=dark_grey)\n",
    "plt.title('Top 15 Countries by Total Cases', color='black', fontsize=16, fontweight='bold')\n",
    "plt.xlabel('Country', color='black', fontsize=12)\n",
    "plt.ylabel('Total Cases (in billions)', color='black', fontsize=12)\n",
    "plt.xticks(rotation=45, ha='right')\n",
    "plt.tight_layout()\n",
    "plt.show()"
   ]
  },
  {
   "cell_type": "markdown",
   "id": "c9c367c7",
   "metadata": {},
   "source": [
    "10. Horizontal bar chart for Mortality Rate of top 10 countries by total deaths ?"
   ]
  },
  {
   "cell_type": "code",
   "execution_count": null,
   "id": "a67cda9c",
   "metadata": {},
   "outputs": [],
   "source": [
    "top_10_deaths = df.nlargest(10, 'total_deaths')\n",
    "plt.figure(figsize=(12, 8))\n",
    "plt.barh(top_10_deaths['country'], top_10_deaths['mortality_rate'], color=dark_grey)\n",
    "plt.title('Mortality Rate for Top 10 Countries by Total Deaths', color='black', fontsize=16, fontweight='bold')\n",
    "plt.xlabel('Mortality Rate', color='black', fontsize=12)\n",
    "plt.ylabel('Country', color='black', fontsize=12)\n",
    "plt.gca().invert_yaxis()  # Invert y-axis to show the highest at the top\n",
    "plt.tight_layout()\n",
    "plt.show()"
   ]
  },
  {
   "cell_type": "markdown",
   "id": "1f3e05b2",
   "metadata": {},
   "source": [
    "11. Scatter plot to visualize relationship between Total Cases and Total Deaths ?"
   ]
  },
  {
   "cell_type": "code",
   "execution_count": null,
   "id": "1134fc5c",
   "metadata": {},
   "outputs": [],
   "source": [
    "plt.figure(figsize=(10, 8))\n",
    "plt.scatter(df['total_cases'], df['total_deaths'], color=dark_grey, alpha=0.7)\n",
    "plt.title('Relationship between Total Cases and Total Deaths', color='black', fontsize=16, fontweight='bold')\n",
    "plt.xlabel('Total Cases (in billions)', color='black', fontsize=12)\n",
    "plt.ylabel('Total Deaths (in millions)', color='black', fontsize=12)\n",
    "plt.tight_layout()\n",
    "plt.show()"
   ]
  },
  {
   "cell_type": "markdown",
   "id": "28642572",
   "metadata": {},
   "source": [
    "12. Overlay a regression line on the scatter plot ?"
   ]
  },
  {
   "cell_type": "code",
   "execution_count": null,
   "id": "22d6f80c",
   "metadata": {},
   "outputs": [],
   "source": [
    "# Exclude the values where Total Cases are 0 to avoid errors in polyfit\n",
    "non_zero_cases_df = df[df['total_cases'] > 0]\n",
    "x = non_zero_cases_df['total_cases']\n",
    "y = non_zero_cases_df['total_deaths']\n",
    "\n",
    "# Fit a first-degree polynomial (linear regression)\n",
    "z = np.polyfit(x, y, 1)\n",
    "p = np.poly1d(z)\n",
    "\n",
    "plt.figure(figsize=(10, 8))\n",
    "plt.scatter(x, y, color=dark_grey, alpha=0.7, label='Data Points')\n",
    "plt.plot(x, p(x), color=medium_grey, linewidth=2, label='Regression Line')\n",
    "plt.title('Total Cases vs. Total Deaths with Regression Line', color='black', fontsize=16, fontweight='bold')\n",
    "plt.xlabel('Total Cases (in billions)', color='black', fontsize=12)\n",
    "plt.ylabel('Total Deaths (in millions)', color='black', fontsize=12)\n",
    "plt.legend(facecolor=light_grey)\n",
    "plt.tight_layout()\n",
    "plt.show()"
   ]
  },
  {
   "cell_type": "markdown",
   "id": "9197c66b",
   "metadata": {},
   "source": [
    "13. Histogram of the Population column ?"
   ]
  },
  {
   "cell_type": "code",
   "execution_count": null,
   "id": "a4cd0272",
   "metadata": {},
   "outputs": [],
   "source": [
    "plt.figure(figsize=(10, 6))\n",
    "# Filter out 0 population values which are likely data errors\n",
    "filtered_population = df[df['population'] > 0]['population']\n",
    "plt.hist(filtered_population, bins=50, color=dark_grey, edgecolor=white_color)\n",
    "plt.title('Distribution of Population Worldwide', color='black', fontsize=16, fontweight='bold')\n",
    "plt.xlabel('Population (in billions)', color='black', fontsize=12)\n",
    "plt.ylabel('Number of Countries', color='black', fontsize=12)\n",
    "plt.tight_layout()\n",
    "plt.show()"
   ]
  },
  {
   "cell_type": "markdown",
   "id": "9fccf93c",
   "metadata": {},
   "source": [
    "14.  Scatter plot for Tests_per_1000_people vs. Total Cases (pop > 50M) ?"
   ]
  },
  {
   "cell_type": "code",
   "execution_count": null,
   "id": "17cdcbfa",
   "metadata": {},
   "outputs": [],
   "source": [
    "filtered_df_pop = df[df['population'] > 50000000]\n",
    "plt.figure(figsize=(10, 8))\n",
    "plt.scatter(\n",
    "    filtered_df_pop['tests_per_1000_people'],\n",
    "    filtered_df_pop['total_cases'],\n",
    "    color=dark_grey,\n",
    "    alpha=0.7\n",
    ")\n",
    "plt.title('Tests per 1000 people vs. Total Cases (Population > 50M)', color='black', fontsize=16, fontweight='bold')\n",
    "plt.xlabel('Tests per 1000 people', color='black', fontsize=12)\n",
    "plt.ylabel('Total Cases (in billions)', color='black', fontsize=12)\n",
    "plt.tight_layout()\n",
    "plt.show()"
   ]
  },
  {
   "cell_type": "markdown",
   "id": "88e5ddfb",
   "metadata": {},
   "source": [
    "15. Create a box plot to show the distribution of total_cases ?"
   ]
  },
  {
   "cell_type": "code",
   "execution_count": null,
   "id": "9e25643d",
   "metadata": {},
   "outputs": [],
   "source": [
    "# Filter out countries with zero cases for a more meaningful plot\n",
    "filtered_cases = df[df['total_cases'] > 0]['total_cases']\n",
    "\n",
    "plt.figure(figsize=(10, 6))\n",
    "plt.boxplot(filtered_cases, vert=False, patch_artist=True, boxprops=dict(facecolor=medium_grey))\n",
    "plt.title('Distribution of Total Cases Worldwide', color='black', fontsize=16, fontweight='bold')\n",
    "plt.xlabel('Total Cases', color='black', fontsize=12)\n",
    "plt.yticks([1], [''])  # Hide y-axis label\n",
    "plt.grid(True, linestyle='--', alpha=0.6)\n",
    "plt.tight_layout()\n",
    "plt.show()"
   ]
  },
  {
   "cell_type": "markdown",
   "id": "5be5b2e4",
   "metadata": {},
   "source": [
    "16. Scatter plot with a log scale for Population vs Total Cases ?"
   ]
  },
  {
   "cell_type": "code",
   "execution_count": null,
   "id": "b9f4547f",
   "metadata": {},
   "outputs": [],
   "source": [
    "plt.figure(figsize=(10, 8))\n",
    "# Filter out zero values before applying log scale\n",
    "log_df = df[(df['population'] > 0) & (df['total_cases'] > 0)]\n",
    "plt.scatter(log_df['population'], log_df['total_cases'], color=dark_grey, alpha=0.7)\n",
    "plt.xscale('log')\n",
    "plt.yscale('log')\n",
    "plt.title('Log-Log Scatter Plot: Population vs. Total Cases', color='black', fontsize=16, fontweight='bold')\n",
    "plt.xlabel('Population (Log Scale)', color='black', fontsize=12)\n",
    "plt.ylabel('Total Cases (Log Scale)', color='black', fontsize=12)\n",
    "plt.grid(True, which=\"both\", ls=\"--\")\n",
    "plt.tight_layout()\n",
    "plt.show()"
   ]
  },
  {
   "cell_type": "markdown",
   "id": "66f93c5b",
   "metadata": {},
   "source": [
    "17. Horizontal bar chart for the top 10 countries by active cases ?"
   ]
  },
  {
   "cell_type": "code",
   "execution_count": null,
   "id": "4f601f59",
   "metadata": {},
   "outputs": [],
   "source": [
    "top_10_active = df.nlargest(10, 'active_cases')\n",
    "plt.figure(figsize=(12, 8))\n",
    "plt.barh(top_10_active['country'], top_10_active['active_cases'], color=dark_grey)\n",
    "plt.title('Top 10 Countries by Active Cases', color='black', fontsize=16, fontweight='bold')\n",
    "plt.xlabel('Active Cases', color='black', fontsize=12)\n",
    "plt.ylabel('Country', color='black', fontsize=12)\n",
    "plt.gca().invert_yaxis()\n",
    "plt.tight_layout()\n",
    "plt.show()"
   ]
  },
  {
   "cell_type": "markdown",
   "id": "a615d482",
   "metadata": {},
   "source": [
    "### *--THE END--*"
   ]
  }
 ],
 "metadata": {
  "kernelspec": {
   "display_name": "Python 3",
   "language": "python",
   "name": "python3"
  },
  "language_info": {
   "codemirror_mode": {
    "name": "ipython",
    "version": 3
   },
   "file_extension": ".py",
   "mimetype": "text/x-python",
   "name": "python",
   "nbconvert_exporter": "python",
   "pygments_lexer": "ipython3",
   "version": "3.12.0"
  }
 },
 "nbformat": 4,
 "nbformat_minor": 5
}
